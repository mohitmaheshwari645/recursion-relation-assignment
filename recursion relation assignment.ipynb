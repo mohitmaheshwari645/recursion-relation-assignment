{
 "cells": [
  {
   "cell_type": "markdown",
   "id": "29d6dd35-6e96-42ba-9d87-e202aa1517b4",
   "metadata": {},
   "source": [
    "q.1 Find the val%e of T(2) for the rec%rrence relation T(n) = 3T(n-1) + 12n, given that T(0)=5."
   ]
  },
  {
   "cell_type": "raw",
   "id": "b5079c7e-7a4e-48f6-9874-1d6f4fe1f292",
   "metadata": {},
   "source": [
    "It looks like your recurrence relation is T(n)=3T(n−1)+12n with an initial condition\n",
    "T(0)=5 To find T(2),we can use the recurrence relation to recursively compute the values.\n",
    "T(n)=3T(n−1)+12n\n",
    "Let's compute T(1)  first:\n",
    "T(1)=3T(0)+12×1=3×5+12=15+12=27\n",
    "Now, T(2):\n",
    "    T(2)=3T(1)+12×2=3×27+24=81+24=105\n",
    "    So, the value of T(2) for the given recurrence relation and initial condition is \n",
    "105.\n"
   ]
  },
  {
   "cell_type": "raw",
   "id": "2b6159da-d0f7-412d-b840-b787e4348ecc",
   "metadata": {},
   "source": [
    "q2. Given a rec%rrence relation, solve it %sing the s%bstit%tion method:\n",
    "a. T(n) = T(n-1) + c\n",
    "b. T(n) = 2T(n/2) + n\n",
    "c. T(n) = 2T(n/2) + c\n",
    "d. T(n) = T(n/2) + c"
   ]
  },
  {
   "cell_type": "raw",
   "id": "2cf79b6f-2ef1-4bc4-8f30-5fea5bf5424e",
   "metadata": {},
   "source": [
    "\n",
    "Certainly! Let's solve each of the recurrence relations using the substitution method:\n",
    "a.T(n)=T(n−1)+c\n",
    "Let's use the substitution S(n)=T(n)−T(n−1):\n",
    "S(n)=T(n)−T(n−1)=(T(n−1)+c)−T(n−1)=c\n",
    "Therefore, S(n)=c,and by substituting back,T(n)=c⋅n.\n",
    "b.T(n)=2T(n/2)+n\n",
    "Let's use the substitution S(n)=T(n)−n:\n",
    "S(n)=T(n)−n=2(T(n/2)+n/2)+n−n=2S(n/2)\n",
    "This is a classic recurrence relation for the merge sort algorithm. By solving it\n",
    "iteratively, you find that S(n)=n⋅logn,and substituting back,T(n)=n⋅\n",
    "logn+n.\n",
    "c.T(n)=2T(n/2)+c\n",
    "This is similar to the previous case, and the solution is the same:T(n)=n⋅logn+\n",
    "c⋅n.\n",
    "d.T(n)=T(n/2)+c\n",
    "Let's use the substitution S(n)=T(n)−c⋅n:\n",
    "S(n)=T(n)−c⋅n=S(n/2)\n",
    "By solving this, you find that S(n)=logn,  and substituting back,T(n)=c⋅n+logn.\n",
    "These are the solutions to the given recurrence relations using the substitution method.\n"
   ]
  },
  {
   "cell_type": "raw",
   "id": "1acfc67b-39c7-489c-b5fe-d53638a7763a",
   "metadata": {},
   "source": [
    "3. Given a rec%rrence relation, solve it %sing the rec%rsive tree approach:\n",
    "a. T(n) = 2T(n-1) +1\n",
    "b. T(n) = 2T(n/2) + n"
   ]
  },
  {
   "cell_type": "raw",
   "id": "e1c22218-a7c8-40bf-b3e9-b56e1859f05f",
   "metadata": {},
   "source": [
    "a.T(n)=2T(n−1)+1\n",
    "To solve this recurrence relation using the recursive tree approach:\n",
    "1.Write out the recurrence relation:\n",
    "T(n)=2T(n−1)+1\n",
    "2.Build the recursive tree:\n",
    "At each level, there are two branches representing the2T(n−1) term.\n",
    "The+1 term is added at each level.\n",
    "\n",
    "T(n)                      Level 0\n",
    " |\n",
    "2T(n-1) + 1               Level 1\n",
    "       |\n",
    "      2T(n-2) + 1          Level 2\n",
    "            |\n",
    "The pattern continues, and the tree has a depth of n\n",
    "3.Sum the contributions:\n",
    "    At each level, the+1 term is added.\n",
    "    The 2 in 2T(n−1) results in a geometric progression of 2^k at level k.\n",
    "    T(n)=1+2+2^2+.....+2^n-1 +1\n",
    "4.Simplify the sum:\n",
    "    T(n)=2^n+1-1=2^n\n",
    "    Therefore, the solution is T(n)=2^n \n",
    "    \n",
    "b.T(n)=2T(n/2)+n\n",
    "To solve this recurrence relation:\n",
    "    1.Write out the recurrence relation:\n",
    "        T(n)=2T(n/2)+n\n",
    "    2. Build the recursive tree:\n",
    "        At each level, there are two branches representing the2T(n/2) term.\n",
    "        The +n term is added at each level.\n",
    "        \n",
    "        \n",
    "        T(n)                      Level 0\n",
    " |\n",
    "2T(n/2) + n               Level 1\n",
    "      / \\\n",
    "2T(n/4)+n/2  2T(n/4)+n/2  Level 2\n",
    "         ...\n",
    "        \n",
    "        \n",
    "The pattern continues, and the tree has a depth of logn.\n",
    "3.Sum the contributions:\n",
    "At each level, the +n term is added.\n",
    "The 2 in 2T(n/2) results in a linear progression of n at each level.\n",
    "T(n)=n+n+…+n=nlogn\n",
    "4.Simplify the sum:\n",
    "    T(n)=nlogn\n",
    "    Therefore, the solution isT(n)=nlogn.\n",
    "These are the solutions to the given recurrence relations using the recursive tree \n",
    "approach.\n",
    " \n",
    "    "
   ]
  },
  {
   "cell_type": "code",
   "execution_count": 1,
   "id": "82bd3cb0-578b-4a45-8a52-4c470eb91542",
   "metadata": {},
   "outputs": [],
   "source": [
    "#complete assignment"
   ]
  },
  {
   "cell_type": "code",
   "execution_count": null,
   "id": "7c251f4b-eae2-4245-914b-6790528fa3b2",
   "metadata": {},
   "outputs": [],
   "source": []
  }
 ],
 "metadata": {
  "kernelspec": {
   "display_name": "Python 3 (ipykernel)",
   "language": "python",
   "name": "python3"
  },
  "language_info": {
   "codemirror_mode": {
    "name": "ipython",
    "version": 3
   },
   "file_extension": ".py",
   "mimetype": "text/x-python",
   "name": "python",
   "nbconvert_exporter": "python",
   "pygments_lexer": "ipython3",
   "version": "3.10.8"
  }
 },
 "nbformat": 4,
 "nbformat_minor": 5
}
