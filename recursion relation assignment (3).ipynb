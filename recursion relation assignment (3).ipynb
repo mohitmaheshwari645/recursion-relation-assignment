{
 "cells": [
  {
   "cell_type": "markdown",
   "id": "29d6dd35-6e96-42ba-9d87-e202aa1517b4",
   "metadata": {},
   "source": [
    "q.1 Find the value of T(2) for the rec%rrence relation T(n) = 3T(n-1) + 12n, given that T(0)=5."
   ]
  },
  {
   "cell_type": "markdown",
   "id": "473fc587-85e0-490e-8add-96069553695b",
   "metadata": {},
   "source": [
    "It looks like your recurrence relation is T(n)=3T(n−1)+12n with an initial condition\n",
    "T(0)=5 To find T(2),we can use the recurrence relation to recursively compute the values.\n",
    "T(n)=3T(n−1)+12n\n",
    "Let's compute T(1)  first:\n",
    "T(1)=3T(0)+12×1=3×5+12=15+12=27\n",
    "Now, T(2):\n",
    "    T(2)=3T(1)+12×2=3×27+24=81+24=105\n",
    "    So, the value of T(2) for the given recurrence relation and initial condition is \n",
    "105.\n"
   ]
  },
  {
   "cell_type": "markdown",
   "id": "54800e71-66b9-4c9a-b976-e7b7dec203f3",
   "metadata": {},
   "source": [
    "q2. Given a recurrence relation, solve it %sing the s%bstit%tion method:\n",
    "a. T(n) = T(n-1) + c\n",
    "b. T(n) = 2T(n/2) + n\n",
    "c. T(n) = 2T(n/2) + c\n",
    "d. T(n) = T(n/2) + c"
   ]
  },
  {
   "cell_type": "markdown",
   "id": "6e0ba2c9-0c0f-4969-a3d6-fcc65ce1c4a0",
   "metadata": {},
   "source": [
    "\n",
    "Certainly! Let's solve each of the recurrence relations using the substitution method:\n",
    "a.T(n)=T(n−1)+c\n",
    "Let's use the substitution S(n)=T(n)−T(n−1):\n",
    "S(n)=T(n)−T(n−1)=(T(n−1)+c)−T(n−1)=c\n",
    "Therefore, S(n)=c,and by substituting back,T(n)=c⋅n.\n",
    "b.T(n)=2T(n/2)+n\n",
    "Let's use the substitution S(n)=T(n)−n:\n",
    "S(n)=T(n)−n=2(T(n/2)+n/2)+n−n=2S(n/2)\n",
    "This is a classic recurrence relation for the merge sort algorithm. By solving it\n",
    "iteratively, you find that S(n)=n⋅logn,and substituting back,T(n)=n⋅\n",
    "logn+n.\n",
    "c.T(n)=2T(n/2)+c\n",
    "This is similar to the previous case, and the solution is the same:T(n)=n⋅logn+\n",
    "c⋅n.\n",
    "d.T(n)=T(n/2)+c\n",
    "Let's use the substitution S(n)=T(n)−c⋅n:\n",
    "S(n)=T(n)−c⋅n=S(n/2)\n",
    "By solving this, you find that S(n)=logn,  and substituting back,T(n)=c⋅n+logn.\n",
    "These are the solutions to the given recurrence relations using the substitution method.\n"
   ]
  },
  {
   "cell_type": "markdown",
   "id": "69fa12a3-1e1e-4006-9829-77b088656e77",
   "metadata": {},
   "source": [
    "3. Given a recurrence relation, solve it using the recursive tree approach:\n",
    "a. T(n) = 2T(n-1) +1\n",
    "b. T(n) = 2T(n/2) + n"
   ]
  },
  {
   "cell_type": "markdown",
   "id": "ae2bd2ee-932a-4fce-b56e-d92417940596",
   "metadata": {},
   "source": [
    "a.T(n)=2T(n−1)+1\n",
    "To solve this recurrence relation using the recursive tree approach:\n",
    "1.Write out the recurrence relation:\n",
    "T(n)=2T(n−1)+1\n",
    "2.Build the recursive tree:\n",
    "At each level, there are two branches representing the2T(n−1) term.\n",
    "The+1 term is added at each level.\n",
    "\n",
    "T(n)                      Level 0\n",
    " |\n",
    "2T(n-1) + 1               Level 1\n",
    "       |\n",
    "      2T(n-2) + 1          Level 2\n",
    "            |\n",
    "The pattern continues, and the tree has a depth of n\n",
    "3.Sum the contributions:\n",
    "    At each level, the+1 term is added.\n",
    "    The 2 in 2T(n−1) results in a geometric progression of 2^k at level k.\n",
    "    T(n)=1+2+2^2+.....+2^n-1 +1\n",
    "4.Simplify the sum:\n",
    "    T(n)=2^n+1-1=2^n\n",
    "    Therefore, the solution is T(n)=2^n \n",
    "    \n",
    "b.T(n)=2T(n/2)+n\n",
    "To solve this recurrence relation:\n",
    "    1.Write out the recurrence relation:\n",
    "        T(n)=2T(n/2)+n\n",
    "    2. Build the recursive tree:\n",
    "        At each level, there are two branches representing the2T(n/2) term.\n",
    "        The +n term is added at each level.\n",
    "        \n",
    "        \n",
    "        T(n)                      Level 0\n",
    " |\n",
    "2T(n/2) + n               Level 1\n",
    "      / \\\n",
    "2T(n/4)+n/2  2T(n/4)+n/2  Level 2\n",
    "         ...\n",
    "        \n",
    "        \n",
    "The pattern continues, and the tree has a depth of logn.\n",
    "3.Sum the contributions:\n",
    "At each level, the +n term is added.\n",
    "The 2 in 2T(n/2) results in a linear progression of n at each level.\n",
    "T(n)=n+n+…+n=nlogn\n",
    "4.Simplify the sum:\n",
    "    T(n)=nlogn\n",
    "    Therefore, the solution isT(n)=nlogn.\n",
    "These are the solutions to the given recurrence relations using the recursive tree \n",
    "approach.\n",
    " \n",
    "    "
   ]
  },
  {
   "cell_type": "code",
   "execution_count": 1,
   "id": "82bd3cb0-578b-4a45-8a52-4c470eb91542",
   "metadata": {},
   "outputs": [],
   "source": [
    "#complete assignment"
   ]
  },
  {
   "cell_type": "code",
   "execution_count": null,
   "id": "7c251f4b-eae2-4245-914b-6790528fa3b2",
   "metadata": {},
   "outputs": [],
   "source": []
  }
 ],
 "metadata": {
  "kernelspec": {
   "display_name": "Python 3 (ipykernel)",
   "language": "python",
   "name": "python3"
  },
  "language_info": {
   "codemirror_mode": {
    "name": "ipython",
    "version": 3
   },
   "file_extension": ".py",
   "mimetype": "text/x-python",
   "name": "python",
   "nbconvert_exporter": "python",
   "pygments_lexer": "ipython3",
   "version": "3.10.8"
  }
 },
 "nbformat": 4,
 "nbformat_minor": 5
}
